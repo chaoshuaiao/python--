{
 "cells": [
  {
   "cell_type": "code",
   "execution_count": 1,
   "metadata": {},
   "outputs": [
    {
     "name": "stdout",
     "output_type": "stream",
     "text": [
      "10\n"
     ]
    }
   ],
   "source": [
    "#赋值并计算\n",
    "if (n:= 10)>5:\n",
    "    print(n)\n"
   ]
  },
  {
   "cell_type": "code",
   "execution_count": 6,
   "metadata": {},
   "outputs": [
    {
     "name": "stdout",
     "output_type": "stream",
     "text": [
      "0.0\n",
      "-10\n"
     ]
    }
   ],
   "source": [
    "#and字符判断全部是否为真，是的话输出最后一个值，若从左到右遍历时判断为假，则输出此假值\n",
    "#or字符是否有真值，有的话输出此值，没有的话输出最后一个值\n",
    "a=-10\n",
    "b=0\n",
    "c=20\n",
    "d=(a and b and c)\n",
    "e=(a or b or c)\n",
    "print(d/n)\n",
    "print(e)"
   ]
  },
  {
   "cell_type": "code",
   "execution_count": 7,
   "metadata": {},
   "outputs": [
    {
     "data": {
      "text/plain": [
       "'0x3c'"
      ]
     },
     "execution_count": 7,
     "metadata": {},
     "output_type": "execute_result"
    }
   ],
   "source": [
    "a=60\n",
    "hex(a)\n"
   ]
  },
  {
   "cell_type": "code",
   "execution_count": 8,
   "metadata": {},
   "outputs": [
    {
     "data": {
      "text/plain": [
       "'0b10'"
      ]
     },
     "execution_count": 8,
     "metadata": {},
     "output_type": "execute_result"
    }
   ],
   "source": [
    "a,b=1,2\n",
    "c=a & b\n",
    "bin(a)\n",
    "bin(b)\n"
   ]
  },
  {
   "cell_type": "code",
   "execution_count": 9,
   "metadata": {},
   "outputs": [
    {
     "data": {
      "text/plain": [
       "0.724623014671804"
      ]
     },
     "execution_count": 9,
     "metadata": {},
     "output_type": "execute_result"
    }
   ],
   "source": [
    "import random \n",
    "random.random()\n"
   ]
  },
  {
   "cell_type": "code",
   "execution_count": 10,
   "metadata": {},
   "outputs": [
    {
     "name": "stdout",
     "output_type": "stream",
     "text": [
      "['b', 2, 3, 4] ['b', 2, 3, 4] [1, 2, 3, 4]\n",
      "2212906258240 2212906258240 2212906449088\n"
     ]
    }
   ],
   "source": [
    "import copy\n",
    "\n",
    "a = [1,2,3,4]\n",
    "b = a\n",
    "d = copy.copy(a)\n",
    "b[0] = 'b'\n",
    "print(a,b,d)\n",
    "print(id(a),id(b),id(d))"
   ]
  },
  {
   "cell_type": "code",
   "execution_count": 11,
   "metadata": {},
   "outputs": [
    {
     "name": "stdout",
     "output_type": "stream",
     "text": [
      "Googl\n",
      "Runoob\n",
      "1997\n",
      "2002\n"
     ]
    }
   ],
   "source": [
    "list01 = [\"Googl\",'Runoob',1997,2002]\n",
    "for i in range(len(list01)):  #用法1    \n",
    "    print(list01[i])"
   ]
  },
  {
   "cell_type": "markdown",
   "metadata": {},
   "source": []
  },
  {
   "cell_type": "code",
   "execution_count": 12,
   "metadata": {},
   "outputs": [
    {
     "name": "stdout",
     "output_type": "stream",
     "text": [
      "Googl\n",
      "Runoob\n",
      "1997\n",
      "2002\n"
     ]
    }
   ],
   "source": [
    "list01 = [\"Googl\",'Runoob',1997,2002]\n",
    "\n",
    "for item in list01:  #用法2    \n",
    "   print(item)"
   ]
  },
  {
   "cell_type": "code",
   "execution_count": 13,
   "metadata": {},
   "outputs": [
    {
     "name": "stdout",
     "output_type": "stream",
     "text": [
      "函数内取值:  [10, 20, 30, [1, 2, 3, 4]]\n",
      "函数外取值:  [10, 20, 30, [1, 2, 3, 4]]\n"
     ]
    }
   ],
   "source": [
    "#!/usr/bin/python3\n",
    " \n",
    "# 可写函数说明\n",
    "def changeme( mylist ):\n",
    "   \"修改传入的列表\"\n",
    "   mylist.append([1,2,3,4])\n",
    "   print (\"函数内取值: \", mylist)\n",
    "   return\n",
    " \n",
    "# 调用changeme函数\n",
    "mylist = [10,20,30]\n",
    "changeme( mylist )\n",
    "print (\"函数外取值: \", mylist)"
   ]
  },
  {
   "cell_type": "code",
   "execution_count": 14,
   "metadata": {},
   "outputs": [
    {
     "name": "stdout",
     "output_type": "stream",
     "text": [
      "**********\n",
      "我是小小洋\n"
     ]
    }
   ],
   "source": [
    "def log(pr):#将被装饰函数传入\n",
    "    def wrapper():\n",
    "        print(\"**********\")      \n",
    "        return pr()#执行被装饰的函数\n",
    "    return wrapper#将装饰完之后的函数返回（返回的是函数名）\n",
    "@log\n",
    "def pr():\n",
    "    print(\"我是小小洋\")\n",
    "\n",
    "pr()"
   ]
  },
  {
   "cell_type": "code",
   "execution_count": 16,
   "metadata": {},
   "outputs": [
    {
     "name": "stdout",
     "output_type": "stream",
     "text": [
      "hello,world\n"
     ]
    }
   ],
   "source": [
    "#print hello world\n",
    "print(\"hello,world\")"
   ]
  },
  {
   "cell_type": "code",
   "execution_count": 19,
   "metadata": {},
   "outputs": [
    {
     "name": "stdout",
     "output_type": "stream",
     "text": [
      "数字之和为： 14\n"
     ]
    }
   ],
   "source": [
    "#用python 实现数字求和\n",
    "\n",
    "\n",
    "print(\"数字之和为：\",sum)"
   ]
  },
  {
   "cell_type": "markdown",
   "metadata": {},
   "source": []
  }
 ],
 "metadata": {
  "kernelspec": {
   "display_name": "Python 3",
   "language": "python",
   "name": "python3"
  },
  "language_info": {
   "codemirror_mode": {
    "name": "ipython",
    "version": 3
   },
   "file_extension": ".py",
   "mimetype": "text/x-python",
   "name": "python",
   "nbconvert_exporter": "python",
   "pygments_lexer": "ipython3",
   "version": "3.12.0"
  }
 },
 "nbformat": 4,
 "nbformat_minor": 2
}
